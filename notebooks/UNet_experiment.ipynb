{
 "cells": [
  {
   "cell_type": "code",
   "execution_count": 2,
   "id": "67008378-ac3c-4737-8faf-989bc575c5e6",
   "metadata": {},
   "outputs": [],
   "source": [
    "import os\n",
    "import sys\n",
    "import torch\n",
    "import numpy as np\n",
    "import torch.nn as nn\n",
    "import torch.optim as optim\n",
    "from torch.utils.data import DataLoader\n",
    "from torchvision.utils import save_image\n",
    "from tqdm import tqdm\n",
    "from sklearn.metrics import jaccard_score\n",
    "from typing import List\n",
    "\n",
    "sys.path.append(os.path.join(os.getcwd(), \"..\"))\n",
    "from models.dataset import PascalPartDataset\n",
    "from models.model import UNet\n",
    "from utils.transforms import Compose, Resize, Normalize, RandomHorizontalFlip"
   ]
  },
  {
   "cell_type": "markdown",
   "id": "ea531b0f-e09d-40a5-bef1-a8637527587a",
   "metadata": {},
   "source": [
    "# Параметры"
   ]
  },
  {
   "cell_type": "code",
   "execution_count": 3,
   "id": "421b7421-3d33-4d8a-aaed-76b9710079fd",
   "metadata": {},
   "outputs": [],
   "source": [
    "batch_size: int = 4\n",
    "learning_rate: float = 1e-3\n",
    "num_epochs: int = 3\n",
    "num_workers: int = 2\n",
    "device: torch.device = torch.device(\"cuda\" if torch.cuda.is_available() else \"cpu\")"
   ]
  },
  {
   "cell_type": "markdown",
   "id": "6f1ef253-ed46-42de-a26e-c6574b33b977",
   "metadata": {},
   "source": [
    "# Преобразования"
   ]
  },
  {
   "cell_type": "code",
   "execution_count": 5,
   "id": "a9042c3d-ecbb-4656-b3e8-6ff11472ada3",
   "metadata": {},
   "outputs": [],
   "source": [
    "transform: Compose = Compose(\n",
    "    [\n",
    "        Resize((256, 256)),\n",
    "        Normalize(mean=[0.485, 0.456, 0.406], std=[0.229, 0.224, 0.225]),\n",
    "        RandomHorizontalFlip(),\n",
    "    ]\n",
    ")"
   ]
  },
  {
   "cell_type": "markdown",
   "id": "803507f4-1fc2-406f-8818-9243c19fad50",
   "metadata": {},
   "source": [
    "# Датасет"
   ]
  },
  {
   "cell_type": "code",
   "execution_count": 6,
   "id": "0a4f9bb3-ae05-440b-aef4-48faf42291ae",
   "metadata": {},
   "outputs": [],
   "source": [
    "train_dataset: PascalPartDataset = PascalPartDataset(\n",
    "    images_path=\"../data/JPEGImages\",\n",
    "    masks_path=\"../data/gt_masks\",\n",
    "    transform=transform,\n",
    "    mode=\"train\",\n",
    ")\n",
    "val_dataset: PascalPartDataset = PascalPartDataset(\n",
    "    images_path=\"../data/JPEGImages\",\n",
    "    masks_path=\"../data/gt_masks\",\n",
    "    transform=transform,\n",
    "    mode=\"val\",\n",
    ")"
   ]
  },
  {
   "cell_type": "markdown",
   "id": "21a035e1-bb80-4f63-a60f-80f9942b044d",
   "metadata": {},
   "source": [
    "# DataLoader"
   ]
  },
  {
   "cell_type": "code",
   "execution_count": 7,
   "id": "72cbe262-eb50-416f-9f0e-8ece71f8a7c9",
   "metadata": {},
   "outputs": [],
   "source": [
    "train_loader: DataLoader = DataLoader(\n",
    "    train_dataset, batch_size=batch_size, shuffle=True, num_workers=num_workers\n",
    ")\n",
    "val_loader: DataLoader = DataLoader(\n",
    "    val_dataset, batch_size=batch_size, shuffle=False, num_workers=num_workers\n",
    ")"
   ]
  },
  {
   "cell_type": "markdown",
   "id": "213185fe-8d98-4f9a-b3cf-373fc9c15db6",
   "metadata": {},
   "source": [
    "# Модель"
   ]
  },
  {
   "cell_type": "code",
   "execution_count": 47,
   "id": "0c59b808-a66c-42d5-8f5f-f8435742ebc5",
   "metadata": {},
   "outputs": [],
   "source": [
    "model: UNet = UNet(n_classes=7).to(device)"
   ]
  },
  {
   "cell_type": "markdown",
   "id": "ddc397ad-c929-4a60-9701-b8a85fe88e76",
   "metadata": {},
   "source": [
    "# Функция потерь"
   ]
  },
  {
   "cell_type": "code",
   "execution_count": 48,
   "id": "f9c50921-23f9-4feb-b020-b5bee55f874f",
   "metadata": {},
   "outputs": [],
   "source": [
    "criterion: nn.CrossEntropyLoss = nn.CrossEntropyLoss()"
   ]
  },
  {
   "cell_type": "markdown",
   "id": "e1cfc0d3-a492-4818-8381-049be8bb77a7",
   "metadata": {},
   "source": [
    "# Оптимизатор"
   ]
  },
  {
   "cell_type": "code",
   "execution_count": 49,
   "id": "15825b92-9098-41ab-9ab1-f6e794bf985e",
   "metadata": {},
   "outputs": [],
   "source": [
    "optimizer: optim.Adam = optim.Adam(model.parameters(), lr=learning_rate)"
   ]
  },
  {
   "cell_type": "markdown",
   "id": "ec394ba4-43eb-4048-b5b3-eafad1f78459",
   "metadata": {},
   "source": [
    "# Обучение"
   ]
  },
  {
   "cell_type": "code",
   "execution_count": 50,
   "id": "16353cab-600e-4850-92b3-5f17e67f77ef",
   "metadata": {},
   "outputs": [
    {
     "name": "stderr",
     "output_type": "stream",
     "text": [
      "100%|███████████████████████████████████████| 707/707 [1:40:37<00:00,  8.54s/it]\n"
     ]
    },
    {
     "name": "stdout",
     "output_type": "stream",
     "text": [
      "Epoch: 1/3, Train Loss: 0.8389\n"
     ]
    },
    {
     "name": "stderr",
     "output_type": "stream",
     "text": [
      "100%|███████████████████████████████████████| 707/707 [7:08:47<00:00, 36.39s/it]\n"
     ]
    },
    {
     "name": "stdout",
     "output_type": "stream",
     "text": [
      "Epoch: 2/3, Train Loss: 0.7254\n"
     ]
    },
    {
     "name": "stderr",
     "output_type": "stream",
     "text": [
      "100%|███████████████████████████████████████| 707/707 [1:53:15<00:00,  9.61s/it]"
     ]
    },
    {
     "name": "stdout",
     "output_type": "stream",
     "text": [
      "Epoch: 3/3, Train Loss: 0.7004\n"
     ]
    },
    {
     "name": "stderr",
     "output_type": "stream",
     "text": [
      "\n"
     ]
    }
   ],
   "source": [
    "for epoch in range(num_epochs):\n",
    "    model.train()\n",
    "    train_loss: float = 0.0\n",
    "    for i, (images, masks) in enumerate(tqdm(train_loader)):\n",
    "        images = images.to(device).float().permute(0, 3, 1, 2)\n",
    "        masks = masks.long().to(device)\n",
    "\n",
    "        optimizer.zero_grad()\n",
    "\n",
    "        outputs = model(images)\n",
    "        loss = criterion(outputs, masks)\n",
    "\n",
    "        loss.backward()\n",
    "        optimizer.step()\n",
    "\n",
    "        train_loss += loss.item()\n",
    "\n",
    "    train_loss /= len(train_loader)\n",
    "    print(f\"Epoch: {epoch+1}/{num_epochs}, Train Loss: {train_loss:.4f}\")"
   ]
  },
  {
   "cell_type": "markdown",
   "id": "c048a8db-4cab-4e7a-a92d-7dfe1b9d0f95",
   "metadata": {},
   "source": [
    "# Оценка"
   ]
  },
  {
   "cell_type": "code",
   "execution_count": 51,
   "id": "9076c58d-be3a-4071-977e-ad927490764e",
   "metadata": {},
   "outputs": [
    {
     "name": "stderr",
     "output_type": "stream",
     "text": [
      "100%|█████████████████████████████████████████| 707/707 [37:46<00:00,  3.21s/it]"
     ]
    },
    {
     "name": "stdout",
     "output_type": "stream",
     "text": [
      "Epoch: 3/3, Val Loss: 2.6795, IoU Score: 0.1664\n"
     ]
    },
    {
     "name": "stderr",
     "output_type": "stream",
     "text": [
      "\n"
     ]
    }
   ],
   "source": [
    "    model.eval()\n",
    "    val_loss: float = 0.0\n",
    "    iou_scores: List[float]  = []\n",
    "    with torch.no_grad():\n",
    "        for i, (images, masks) in enumerate(tqdm(train_loader)):\n",
    "            images = images.to(device).float().permute(0, 3, 1, 2)\n",
    "            masks = masks.long().to(device)\n",
    "    \n",
    "            outputs = model(images)\n",
    "            loss = criterion(outputs, masks)\n",
    "    \n",
    "            val_loss += loss.item()\n",
    "    \n",
    "            _, predictions = torch.max(outputs, 1)\n",
    "            \n",
    "            masks = masks.squeeze(1)  # Убираем измерение канала\n",
    "            predictions = predictions.squeeze(1)  # Убираем измерение канала\n",
    "            \n",
    "            batch_size = min(masks.size(0), predictions.size(0))  # Учитываем минимальный размер батча\n",
    "            \n",
    "            iou_scores.append(jaccard_score(masks.cpu().numpy().flatten(), predictions.cpu().numpy().flatten(), average='macro'))\n",
    "    \n",
    "    val_loss /= len(val_loader)\n",
    "    iou_score = np.mean(iou_scores)\n",
    "    print(f\"Epoch: {epoch+1}/{num_epochs}, Val Loss: {val_loss:.4f}, IoU Score: {iou_score:.4f}\")\n",
    "\n"
   ]
  },
  {
   "cell_type": "markdown",
   "id": "fa6d54ff-dfb3-487a-a99e-21ef7bf1b20d",
   "metadata": {},
   "source": [
    "# Вычисление метрик mIoU на валидационном наборе данных:"
   ]
  },
  {
   "cell_type": "code",
   "execution_count": 57,
   "id": "b4383a96-2e66-4cad-8fc3-af2185181776",
   "metadata": {},
   "outputs": [
    {
     "name": "stderr",
     "output_type": "stream",
     "text": [
      "100%|█████████████████████████████████████████| 177/177 [08:04<00:00,  2.74s/it]"
     ]
    },
    {
     "name": "stdout",
     "output_type": "stream",
     "text": [
      "mIoU^0: [0.7005 0.     0.     0.    ]\n",
      "mIoU^1: [0.696 0.    0.    0.   ]\n",
      "mIoU^2: 0.5035\n"
     ]
    },
    {
     "name": "stderr",
     "output_type": "stream",
     "text": [
      "\n"
     ]
    }
   ],
   "source": [
    "model.eval()\n",
    "val_loss: float = 0.0\n",
    "with torch.no_grad():\n",
    "    for i, (images, masks) in enumerate(tqdm(val_loader)):\n",
    "        images = images.to(device).float().permute(0, 3, 1, 2)\n",
    "        masks = masks.long().to(device)\n",
    "\n",
    "        outputs = model(images)\n",
    "        loss = criterion(outputs, masks)\n",
    "\n",
    "        val_loss += loss.item()\n",
    "\n",
    "        _, predictions = torch.max(outputs, 1)\n",
    "\n",
    "    miou0: float = jaccard_score(\n",
    "        masks[:, :, 1].cpu().numpy().flatten(),\n",
    "        predictions[:, :, 1].cpu().numpy().flatten(),\n",
    "        average=None,\n",
    "    )\n",
    "    miou1: float = (\n",
    "        jaccard_score(\n",
    "            masks[:, :, 2].cpu().numpy().flatten(),\n",
    "            predictions[:, :, 2].cpu().numpy().flatten(),\n",
    "            average=None,\n",
    "        )\n",
    "        + jaccard_score(\n",
    "            masks[:, :, 3].cpu().numpy().flatten(),\n",
    "            predictions[:, :, 3].cpu().numpy().flatten(),\n",
    "            average=None,\n",
    "        )\n",
    "    ) / 2\n",
    "    miou2: float = jaccard_score(\n",
    "        masks.cpu().numpy().flatten(),\n",
    "        predictions.cpu().numpy().flatten(),\n",
    "        average=\"weighted\",\n",
    "        zero_division=1,\n",
    "    )\n",
    "\n",
    "\n",
    "val_loss /= len(val_loader)\n",
    "miou0_value: np.ndarray = np.round(miou0, 4)\n",
    "miou1_value: float = np.round(miou1, 4)\n",
    "miou2_value: float = np.round(miou2, 4)\n",
    "\n",
    "print(f\"mIoU^0: {miou0_value}\")\n",
    "print(f\"mIoU^1: {miou1_value}\")\n",
    "print(f\"mIoU^2: {miou2_value}\")"
   ]
  },
  {
   "cell_type": "markdown",
   "id": "ff56711a-9d33-4bf3-b57f-0e6cd30895bb",
   "metadata": {},
   "source": [
    "# Сохранение модели"
   ]
  },
  {
   "cell_type": "code",
   "execution_count": 52,
   "id": "a888607a-6350-4bea-b499-966c4cd484ad",
   "metadata": {},
   "outputs": [],
   "source": [
    "torch.save(model.state_dict(), \"../models/unet_model.pth\")"
   ]
  }
 ],
 "metadata": {
  "kernelspec": {
   "display_name": "Python 3 (ipykernel)",
   "language": "python",
   "name": "python3"
  },
  "language_info": {
   "codemirror_mode": {
    "name": "ipython",
    "version": 3
   },
   "file_extension": ".py",
   "mimetype": "text/x-python",
   "name": "python",
   "nbconvert_exporter": "python",
   "pygments_lexer": "ipython3",
   "version": "3.9.18"
  }
 },
 "nbformat": 4,
 "nbformat_minor": 5
}
