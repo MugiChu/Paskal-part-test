{
 "cells": [
  {
   "cell_type": "code",
   "execution_count": 7,
   "id": "67008378-ac3c-4737-8faf-989bc575c5e6",
   "metadata": {},
   "outputs": [],
   "source": [
    "import os\n",
    "import sys\n",
    "import torch\n",
    "import torch.nn as nn\n",
    "import torch.optim as optim\n",
    "from torch.utils.data import DataLoader\n",
    "from torchvision.utils import save_image\n",
    "from tqdm import tqdm\n",
    "from sklearn.metrics import jaccard_score\n",
    "from typing import List\n",
    "\n",
    "sys.path.append(os.path.join(os.getcwd(), \"..\"))\n",
    "from models.dataset import PascalPartDataset\n",
    "from models.model import UNet\n",
    "from utils.transforms import Compose, Resize, Normalize, RandomHorizontalFlip"
   ]
  },
  {
   "cell_type": "markdown",
   "id": "ea531b0f-e09d-40a5-bef1-a8637527587a",
   "metadata": {},
   "source": [
    "# Параметры"
   ]
  },
  {
   "cell_type": "code",
   "execution_count": 8,
   "id": "421b7421-3d33-4d8a-aaed-76b9710079fd",
   "metadata": {},
   "outputs": [],
   "source": [
    "batch_size: int = 4\n",
    "learning_rate: float = 1e-3\n",
    "num_epochs: int = 100\n",
    "num_workers: int = 2\n",
    "device: torch.device = torch.device(\"cuda\" if torch.cuda.is_available() else \"cpu\")"
   ]
  },
  {
   "cell_type": "markdown",
   "id": "6f1ef253-ed46-42de-a26e-c6574b33b977",
   "metadata": {},
   "source": [
    "# Преобразования"
   ]
  },
  {
   "cell_type": "code",
   "execution_count": 9,
   "id": "a9042c3d-ecbb-4656-b3e8-6ff11472ada3",
   "metadata": {},
   "outputs": [],
   "source": [
    "transform = Compose(\n",
    "    [\n",
    "        Resize((256, 256)),\n",
    "        Normalize(mean=[0.485, 0.456, 0.406], std=[0.229, 0.224, 0.225]),\n",
    "        RandomHorizontalFlip(),\n",
    "    ]\n",
    ")"
   ]
  },
  {
   "cell_type": "markdown",
   "id": "803507f4-1fc2-406f-8818-9243c19fad50",
   "metadata": {},
   "source": [
    "# Датасет"
   ]
  },
  {
   "cell_type": "code",
   "execution_count": 11,
   "id": "0a4f9bb3-ae05-440b-aef4-48faf42291ae",
   "metadata": {},
   "outputs": [
    {
     "ename": "TypeError",
     "evalue": "__init__() got an unexpected keyword argument 'mode'",
     "output_type": "error",
     "traceback": [
      "\u001b[0;31m---------------------------------------------------------------------------\u001b[0m",
      "\u001b[0;31mTypeError\u001b[0m                                 Traceback (most recent call last)",
      "Cell \u001b[0;32mIn[11], line 1\u001b[0m\n\u001b[0;32m----> 1\u001b[0m train_dataset: PascalPartDataset \u001b[38;5;241m=\u001b[39m \u001b[43mPascalPartDataset\u001b[49m\u001b[43m(\u001b[49m\u001b[43mimages_path\u001b[49m\u001b[38;5;241;43m=\u001b[39;49m\u001b[38;5;124;43m'\u001b[39;49m\u001b[38;5;124;43m../data/JPEGImages\u001b[39;49m\u001b[38;5;124;43m'\u001b[39;49m\u001b[43m,\u001b[49m\u001b[43m \u001b[49m\u001b[43mmasks_path\u001b[49m\u001b[38;5;241;43m=\u001b[39;49m\u001b[38;5;124;43m'\u001b[39;49m\u001b[38;5;124;43m../data/gt_masks\u001b[39;49m\u001b[38;5;124;43m'\u001b[39;49m\u001b[43m,\u001b[49m\u001b[43m \u001b[49m\u001b[43mtransform\u001b[49m\u001b[38;5;241;43m=\u001b[39;49m\u001b[43mtransform\u001b[49m\u001b[43m,\u001b[49m\u001b[43m \u001b[49m\u001b[43mmode\u001b[49m\u001b[38;5;241;43m=\u001b[39;49m\u001b[38;5;124;43m'\u001b[39;49m\u001b[38;5;124;43mtrain\u001b[39;49m\u001b[38;5;124;43m'\u001b[39;49m\u001b[43m)\u001b[49m\n\u001b[1;32m      2\u001b[0m val_dataset: PascalPartDataset \u001b[38;5;241m=\u001b[39m PascalPartDataset(images_path\u001b[38;5;241m=\u001b[39m\u001b[38;5;124m'\u001b[39m\u001b[38;5;124m../data/JPEGImages\u001b[39m\u001b[38;5;124m'\u001b[39m, masks_path\u001b[38;5;241m=\u001b[39m\u001b[38;5;124m'\u001b[39m\u001b[38;5;124m../data/gt_masks\u001b[39m\u001b[38;5;124m'\u001b[39m, transform\u001b[38;5;241m=\u001b[39mtransform, mode\u001b[38;5;241m=\u001b[39m\u001b[38;5;124m'\u001b[39m\u001b[38;5;124mval\u001b[39m\u001b[38;5;124m'\u001b[39m)\n",
      "\u001b[0;31mTypeError\u001b[0m: __init__() got an unexpected keyword argument 'mode'"
     ]
    }
   ],
   "source": [
    "train_dataset: PascalPartDataset = PascalPartDataset(\n",
    "    images_path=\"../data/JPEGImages\",\n",
    "    masks_path=\"../data/gt_masks\",\n",
    "    transform=transform,\n",
    "    mode=\"train\",\n",
    ")\n",
    "val_dataset: PascalPartDataset = PascalPartDataset(\n",
    "    images_path=\"../data/JPEGImages\",\n",
    "    masks_path=\"../data/gt_masks\",\n",
    "    transform=transform,\n",
    "    mode=\"val\",\n",
    ")"
   ]
  },
  {
   "cell_type": "markdown",
   "id": "21a035e1-bb80-4f63-a60f-80f9942b044d",
   "metadata": {},
   "source": [
    "# DataLoader"
   ]
  },
  {
   "cell_type": "code",
   "execution_count": 12,
   "id": "72cbe262-eb50-416f-9f0e-8ece71f8a7c9",
   "metadata": {},
   "outputs": [
    {
     "ename": "NameError",
     "evalue": "name 'train_dataset' is not defined",
     "output_type": "error",
     "traceback": [
      "\u001b[0;31m---------------------------------------------------------------------------\u001b[0m",
      "\u001b[0;31mNameError\u001b[0m                                 Traceback (most recent call last)",
      "Cell \u001b[0;32mIn[12], line 1\u001b[0m\n\u001b[0;32m----> 1\u001b[0m train_loader: DataLoader \u001b[38;5;241m=\u001b[39m DataLoader(\u001b[43mtrain_dataset\u001b[49m, batch_size\u001b[38;5;241m=\u001b[39mbatch_size, shuffle\u001b[38;5;241m=\u001b[39m\u001b[38;5;28;01mTrue\u001b[39;00m, num_workers\u001b[38;5;241m=\u001b[39mnum_workers)\n\u001b[1;32m      2\u001b[0m val_loader: DataLoader \u001b[38;5;241m=\u001b[39m DataLoader(val_dataset, batch_size\u001b[38;5;241m=\u001b[39mbatch_size, shuffle\u001b[38;5;241m=\u001b[39m\u001b[38;5;28;01mFalse\u001b[39;00m, num_workers\u001b[38;5;241m=\u001b[39mnum_workers)\n",
      "\u001b[0;31mNameError\u001b[0m: name 'train_dataset' is not defined"
     ]
    }
   ],
   "source": [
    "train_loader: DataLoader = DataLoader(\n",
    "    train_dataset, batch_size=batch_size, shuffle=True, num_workers=num_workers\n",
    ")\n",
    "val_loader: DataLoader = DataLoader(\n",
    "    val_dataset, batch_size=batch_size, shuffle=False, num_workers=num_workers\n",
    ")"
   ]
  },
  {
   "cell_type": "markdown",
   "id": "213185fe-8d98-4f9a-b3cf-373fc9c15db6",
   "metadata": {},
   "source": [
    "# Модель"
   ]
  },
  {
   "cell_type": "code",
   "execution_count": 13,
   "id": "0c59b808-a66c-42d5-8f5f-f8435742ebc5",
   "metadata": {},
   "outputs": [],
   "source": [
    "model: UNet = UNet(n_classes=7).to(device)"
   ]
  },
  {
   "cell_type": "markdown",
   "id": "ddc397ad-c929-4a60-9701-b8a85fe88e76",
   "metadata": {},
   "source": [
    "# Функция потерь"
   ]
  },
  {
   "cell_type": "code",
   "execution_count": 14,
   "id": "f9c50921-23f9-4feb-b020-b5bee55f874f",
   "metadata": {},
   "outputs": [],
   "source": [
    "criterion: nn.CrossEntropyLoss = nn.CrossEntropyLoss()"
   ]
  },
  {
   "cell_type": "markdown",
   "id": "e1cfc0d3-a492-4818-8381-049be8bb77a7",
   "metadata": {},
   "source": [
    "# Оптимизатор"
   ]
  },
  {
   "cell_type": "code",
   "execution_count": 15,
   "id": "15825b92-9098-41ab-9ab1-f6e794bf985e",
   "metadata": {},
   "outputs": [],
   "source": [
    "optimizer: optim.Adam = optim.Adam(model.parameters(), lr=learning_rate)"
   ]
  },
  {
   "cell_type": "markdown",
   "id": "ec394ba4-43eb-4048-b5b3-eafad1f78459",
   "metadata": {},
   "source": [
    "# Обучение"
   ]
  },
  {
   "cell_type": "code",
   "execution_count": 16,
   "id": "16353cab-600e-4850-92b3-5f17e67f77ef",
   "metadata": {},
   "outputs": [
    {
     "ename": "NameError",
     "evalue": "name 'train_loader' is not defined",
     "output_type": "error",
     "traceback": [
      "\u001b[0;31m---------------------------------------------------------------------------\u001b[0m",
      "\u001b[0;31mNameError\u001b[0m                                 Traceback (most recent call last)",
      "Cell \u001b[0;32mIn[16], line 4\u001b[0m\n\u001b[1;32m      2\u001b[0m model\u001b[38;5;241m.\u001b[39mtrain()\n\u001b[1;32m      3\u001b[0m train_loss: \u001b[38;5;28mfloat\u001b[39m \u001b[38;5;241m=\u001b[39m \u001b[38;5;241m0.0\u001b[39m\n\u001b[0;32m----> 4\u001b[0m \u001b[38;5;28;01mfor\u001b[39;00m i, (images, masks) \u001b[38;5;129;01min\u001b[39;00m \u001b[38;5;28menumerate\u001b[39m(tqdm(\u001b[43mtrain_loader\u001b[49m)):\n\u001b[1;32m      5\u001b[0m     images: torch\u001b[38;5;241m.\u001b[39mTensor \u001b[38;5;241m=\u001b[39m images\u001b[38;5;241m.\u001b[39mto(device)\n\u001b[1;32m      6\u001b[0m     masks: torch\u001b[38;5;241m.\u001b[39mTensor \u001b[38;5;241m=\u001b[39m masks\u001b[38;5;241m.\u001b[39mlong()\u001b[38;5;241m.\u001b[39mto(device)\n",
      "\u001b[0;31mNameError\u001b[0m: name 'train_loader' is not defined"
     ]
    }
   ],
   "source": [
    "for epoch in range(num_epochs):\n",
    "    model.train()\n",
    "    train_loss: float = 0.0\n",
    "    for i, (images, masks) in enumerate(tqdm(train_loader)):\n",
    "        images: torch.Tensor = images.to(device)\n",
    "        masks: torch.Tensor = masks.long().to(device)\n",
    "\n",
    "        optimizer.zero_grad()\n",
    "\n",
    "        outputs: torch.Tensor = model(images)\n",
    "        loss: torch.Tensor = criterion(outputs, masks)\n",
    "\n",
    "        loss.backward()\n",
    "        optimizer.step()\n",
    "\n",
    "        train_loss += loss.item()\n",
    "\n",
    "    train_loss /= len(train_loader)\n",
    "    print(f\"Epoch: {epoch+1}/{num_epochs}, Train Loss: {train_loss:.4f}\")"
   ]
  },
  {
   "cell_type": "markdown",
   "id": "c048a8db-4cab-4e7a-a92d-7dfe1b9d0f95",
   "metadata": {},
   "source": [
    "# Оценка"
   ]
  },
  {
   "cell_type": "code",
   "execution_count": 17,
   "id": "50fd7c13-122e-4dec-a756-e4155936eecd",
   "metadata": {},
   "outputs": [
    {
     "ename": "NameError",
     "evalue": "name 'val_loader' is not defined",
     "output_type": "error",
     "traceback": [
      "\u001b[0;31m---------------------------------------------------------------------------\u001b[0m",
      "\u001b[0;31mNameError\u001b[0m                                 Traceback (most recent call last)",
      "Cell \u001b[0;32mIn[17], line 5\u001b[0m\n\u001b[1;32m      3\u001b[0m iou_scores: List[\u001b[38;5;28mfloat\u001b[39m] \u001b[38;5;241m=\u001b[39m []\n\u001b[1;32m      4\u001b[0m \u001b[38;5;28;01mwith\u001b[39;00m torch\u001b[38;5;241m.\u001b[39mno_grad():\n\u001b[0;32m----> 5\u001b[0m     \u001b[38;5;28;01mfor\u001b[39;00m images, masks \u001b[38;5;129;01min\u001b[39;00m \u001b[43mval_loader\u001b[49m:\n\u001b[1;32m      6\u001b[0m         images: torch\u001b[38;5;241m.\u001b[39mTensor \u001b[38;5;241m=\u001b[39m images\u001b[38;5;241m.\u001b[39mto(device)\n\u001b[1;32m      7\u001b[0m         masks: torch\u001b[38;5;241m.\u001b[39mTensor \u001b[38;5;241m=\u001b[39m masks\u001b[38;5;241m.\u001b[39mlong()\u001b[38;5;241m.\u001b[39mto(device)\n",
      "\u001b[0;31mNameError\u001b[0m: name 'val_loader' is not defined"
     ]
    }
   ],
   "source": [
    "model.eval()\n",
    "val_loss: float = 0.0\n",
    "iou_scores: List[float] = []\n",
    "with torch.no_grad():\n",
    "    for images, masks in val_loader:\n",
    "        images: torch.Tensor = images.to(device)\n",
    "        masks: torch.Tensor = masks.long().to(device)\n",
    "\n",
    "        outputs: torch.Tensor = model(images)\n",
    "        loss: torch.Tensor = criterion(outputs, masks)\n",
    "\n",
    "        val_loss += loss.item()\n",
    "\n",
    "        _, predictions = torch.max(outputs, 1)\n",
    "        iou_scores.append(\n",
    "            jaccard_score(\n",
    "                masks.cpu().numpy(), predictions.cpu().numpy(), average=\"weighted\"\n",
    "            )\n",
    "        )\n",
    "\n",
    "val_loss /= len(val_loader)\n",
    "iou_score: float = np.mean(iou_scores)\n",
    "print(\n",
    "    f\"Epoch: {epoch+1}/{num_epochs}, Val Loss: {val_loss:.4f}, IoU Score: {iou_score:.4f}\"\n",
    ")"
   ]
  },
  {
   "cell_type": "markdown",
   "id": "ff56711a-9d33-4bf3-b57f-0e6cd30895bb",
   "metadata": {},
   "source": [
    "# Сохранение модели"
   ]
  },
  {
   "cell_type": "code",
   "execution_count": 18,
   "id": "a888607a-6350-4bea-b499-966c4cd484ad",
   "metadata": {},
   "outputs": [],
   "source": [
    "torch.save(model.state_dict(), \"../models/unet_model.pth\")"
   ]
  },
  {
   "cell_type": "code",
   "execution_count": null,
   "id": "04727576-31ff-4af9-8719-4ef7c5e9557c",
   "metadata": {},
   "outputs": [],
   "source": []
  }
 ],
 "metadata": {
  "kernelspec": {
   "display_name": "Python 3 (ipykernel)",
   "language": "python",
   "name": "python3"
  },
  "language_info": {
   "codemirror_mode": {
    "name": "ipython",
    "version": 3
   },
   "file_extension": ".py",
   "mimetype": "text/x-python",
   "name": "python",
   "nbconvert_exporter": "python",
   "pygments_lexer": "ipython3",
   "version": "3.9.18"
  }
 },
 "nbformat": 4,
 "nbformat_minor": 5
}
